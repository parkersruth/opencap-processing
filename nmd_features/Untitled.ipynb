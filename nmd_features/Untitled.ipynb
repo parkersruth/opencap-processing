{
 "cells": [
  {
   "cell_type": "code",
   "execution_count": 29,
   "id": "a88270fd-03ba-4d7a-9b94-e4769ed2147a",
   "metadata": {},
   "outputs": [],
   "source": [
    "from pathlib import Path\n",
    "\n",
    "import pandas as pd # also openpyxl for xlsx files\n",
    "import numpy as np\n",
    "import scipy.signal as ss\n",
    "import matplotlib.pyplot as plt\n",
    "import seaborn as sns\n",
    "\n",
    "from tqdm.auto import tqdm, trange\n",
    "\n",
    "from utilsLoaders import read_trc, read_mot\n",
    "import ocfeats\n",
    "\n",
    "datadir = Path('./datadir')\n",
    "\n",
    "def get_trc_fpath(sid, trial):\n",
    "    return datadir / f'opencap_data/{sid}/' \\\n",
    "        f'MarkerData/PostAugmentation/{trial}/{trial}.trc'\n",
    "\n",
    "def get_mot_fpath(sid, trial):\n",
    "    return datadir / f'opencap_data/{sid}/' \\\n",
    "        f'OpenSimData/Kinematics/{trial}.mot'\n",
    "    \n",
    "def get_model_fpath(sid):\n",
    "    sdir = datadir / f'opencap_data/{sid}'\n",
    "    return list((sdir/'OpenSimData/Model').glob('*.osim'))[0]\n"
   ]
  },
  {
   "cell_type": "code",
   "execution_count": 30,
   "id": "90b441fb-3bc4-4de9-8572-7b86c8b25b89",
   "metadata": {},
   "outputs": [
    {
     "name": "stderr",
     "output_type": "stream",
     "text": [
      "/Users/psr/opt/anaconda3/envs/opensim/lib/python3.9/site-packages/openpyxl/worksheet/_read_only.py:81: UserWarning: Unknown extension is not supported and will be removed\n",
      "  for idx, row in parser.parse():\n"
     ]
    }
   ],
   "source": [
    "# df_session = pd.read_excel(datadir / 'session_info.xlsx')\n",
    "df_trial = pd.read_excel(datadir / 'trial_info.xlsx')\n",
    "# df_part = pd.read_excel(datadir / 'participant_info.xlsx')\n"
   ]
  },
  {
   "cell_type": "code",
   "execution_count": 31,
   "id": "64bb3c6a-17ed-465a-92f6-70acdb2b0ea5",
   "metadata": {},
   "outputs": [],
   "source": [
    "df_temp = df_trial[df_trial.trial_clean.str.len() > 1]\n",
    "\n",
    "for i, row in df_temp.iterrows():\n",
    "    trc_fpath = get_trc_fpath(row.sid, row.trial)\n",
    "    if not trc_fpath.exists():\n",
    "        print(row.sid, row.trial)\n",
    "\n",
    "    mot_fpath = get_mot_fpath(row.sid, row.trial)\n",
    "    if not mot_fpath.exists():\n",
    "        print(row.sid, row.trial)\n"
   ]
  }
 ],
 "metadata": {
  "kernelspec": {
   "display_name": "Python 3 (ipykernel)",
   "language": "python",
   "name": "python3"
  },
  "language_info": {
   "codemirror_mode": {
    "name": "ipython",
    "version": 3
   },
   "file_extension": ".py",
   "mimetype": "text/x-python",
   "name": "python",
   "nbconvert_exporter": "python",
   "pygments_lexer": "ipython3",
   "version": "3.9.16"
  }
 },
 "nbformat": 4,
 "nbformat_minor": 5
}
