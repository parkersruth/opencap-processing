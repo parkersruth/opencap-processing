{
 "cells": [
  {
   "cell_type": "code",
   "execution_count": 1,
   "id": "a5a233bb-4dc4-458a-a053-d66b9f9a95aa",
   "metadata": {},
   "outputs": [],
   "source": [
    "%load_ext autoreload\n",
    "%autoreload 1\n",
    "%aimport utilsLoaders\n",
    "%aimport ocfeats\n"
   ]
  },
  {
   "cell_type": "code",
   "execution_count": 6,
   "id": "9c23e9a1-908f-4a39-bf56-3e55a4c63ba8",
   "metadata": {},
   "outputs": [],
   "source": [
    "from pathlib import Path\n",
    "\n",
    "import pandas as pd # also openpyxl for xlsx files\n",
    "import numpy as np\n",
    "import scipy.signal as ss\n",
    "import matplotlib.pyplot as plt\n",
    "import seaborn as sns\n",
    "\n",
    "from tqdm.auto import tqdm, trange\n",
    "\n",
    "from utilsLoaders import read_trc, read_mot\n",
    "import ocfeats\n",
    "\n",
    "datadir = Path('./datadir')\n",
    "\n",
    "def get_trc_fpath(sid, trial):\n",
    "    return datadir / f'opencap_data/{sid}/' \\\n",
    "        f'MarkerData/PostAugmentation/{trial}/{trial}.trc'\n",
    "\n",
    "def get_mot_fpath(sid, trial):\n",
    "    return datadir / f'opencap_data/{sid}/' \\\n",
    "        f'OpenSimData/Kinematics/{trial}.mot'\n",
    "    \n",
    "def get_model_fpath(sid):\n",
    "    sdir = datadir / f'opencap_data/{sid}'\n",
    "    return list((sdir/'OpenSimData/Model').glob('*.osim'))[0]\n"
   ]
  },
  {
   "cell_type": "code",
   "execution_count": 7,
   "id": "7cd22b5f-3b78-4fad-995e-45e0e1fafbc7",
   "metadata": {},
   "outputs": [],
   "source": [
    "# colorblind friendly palette\n",
    "from cycler import cycler\n",
    "cp = [\"#172A5A\", \"#FF7171\", \"#227567\", \"#34BAEA\", \"#F9D466\", ]\n",
    "plt.rcParams['axes.prop_cycle'] = cycler(color=cp)\n",
    "\n",
    "# set default font\n",
    "plt.rcParams['font.family'] = 'sans-serif'\n",
    "plt.rcParams['font.sans-serif'] = ['Open Sans', 'Arial']\n",
    "\n",
    "# automatically despine\n",
    "plt.rcParams['axes.spines.top'] = False\n",
    "plt.rcParams['axes.spines.right'] = False\n",
    "\n",
    "# set defualt DPI\n",
    "plt.rcParams['figure.dpi'] = 72\n"
   ]
  },
  {
   "cell_type": "code",
   "execution_count": 8,
   "id": "5ce3e26a-9704-4e4b-b977-e010f787d648",
   "metadata": {},
   "outputs": [],
   "source": [
    "df_session = pd.read_excel(datadir / 'session_info.xlsx')\n",
    "df_trial = pd.read_excel(datadir / 'trial_info.xlsx')\n",
    "df_part = pd.read_excel(datadir / 'participant_info.xlsx')\n"
   ]
  },
  {
   "cell_type": "markdown",
   "id": "4e3bbaf9-cf69-459a-b0a5-8a5c7f8ef150",
   "metadata": {},
   "source": [
    "### Arm ROM"
   ]
  },
  {
   "cell_type": "code",
   "execution_count": null,
   "id": "af4043e9-9a44-44ec-b2b4-74711c1e685e",
   "metadata": {},
   "outputs": [],
   "source": [
    "df_temp = df_trial[df_trial.trial_clean == 'arm_rom']\n",
    "data = []\n",
    "for i, row in tqdm(df_temp.iterrows(), total=df_temp.shape[0]):\n",
    "    pid, sid, trial = row[['pid', 'sid', 'trial']]\n",
    "    fps, markers, xyz = read_trc(get_trc_fpath(sid, trial))        \n",
    "    feats = ocfeats.arm_rom_trc_feats(xyz, markers)\n",
    "    max_mean_sa, mean_ea_at_max_mean_sa, max_min_sa, max_ea_at_max_min_sa, rw = feats\n",
    "\n",
    "    data.append({'pid': pid,\n",
    "                 'max_mean_sa': max_mean_sa,\n",
    "                 'mean_ea_at_max_mean_sa': mean_ea_at_max_mean_sa,\n",
    "                 'max_min_sa': max_min_sa,\n",
    "                 'max_ea_at_max_min_sa': max_ea_at_max_min_sa,\n",
    "                 'reachable_workspace': rw,\n",
    "                })\n",
    "\n",
    "df_temp = pd.DataFrame(data)\n",
    "df_feat.drop(df_temp.columns[1:], axis=1, errors='ignore', inplace=True)\n",
    "df_feat = df_feat.merge(df_temp, on='pid', how='outer')\n"
   ]
  },
  {
   "cell_type": "markdown",
   "id": "cdd099fd-9104-487d-95f8-44fe8f3cae62",
   "metadata": {},
   "source": [
    "### Brooke"
   ]
  },
  {
   "cell_type": "code",
   "execution_count": null,
   "id": "7bd2c341-a566-489b-bae8-9b59f337ea04",
   "metadata": {},
   "outputs": [],
   "source": [
    "df_temp = df_trial[df_trial.trial_clean == 'brooke']\n",
    "data = []\n",
    "for i, row in tqdm(df_temp.iterrows(), total=df_temp.shape[0]):\n",
    "    pid, sid, trial = row[['pid', 'sid', 'trial']]\n",
    "    fps, markers, xyz = read_trc(get_trc_fpath(sid, trial))        \n",
    "    feats = ocfeats.brooke_trc_feats(xyz, markers)\n",
    "    max_mean_sa, max_mean_ea, max_min_sa, max_ea_at_max_min_sa = feats\n",
    "\n",
    "    data.append({'pid': pid,\n",
    "                 'brooke_max_mean_sa': max_mean_sa,\n",
    "                 'brooke_max_mean_ea': max_mean_ea,\n",
    "                 'brooke_max_min_sa': max_min_sa,\n",
    "                 'brooke_max_ea_at_max_min_sa': max_ea_at_max_min_sa,\n",
    "                })\n",
    "\n",
    "df_temp = pd.DataFrame(data)\n",
    "df_feat.drop(df_temp.columns[1:], axis=1, errors='ignore', inplace=True)\n",
    "df_feat = df_feat.merge(df_temp, on='pid', how='outer')\n"
   ]
  },
  {
   "cell_type": "markdown",
   "id": "e11142d1-0fd0-4195-9d2b-87896a2722c6",
   "metadata": {},
   "source": [
    "### Curls"
   ]
  },
  {
   "cell_type": "code",
   "execution_count": null,
   "id": "90f02138-2a7c-4522-ad28-38e83b792bc5",
   "metadata": {},
   "outputs": [],
   "source": [
    "df_temp = df_trial[df_trial.trial_clean == 'curls']\n",
    "data = []\n",
    "for i, row in tqdm(df_temp.iterrows(), total=df_temp.shape[0]):\n",
    "    pid, sid, trial = row[['pid', 'sid', 'trial']]\n",
    "    fps, markers, xyz = read_trc(get_trc_fpath(sid, trial))        \n",
    "    max_mean_ea = ocfeats.curls_trc_feats(xyz, markers)\n",
    "\n",
    "    data.append({'pid': pid,\n",
    "                 'curls_max_mean_ea': max_mean_ea,\n",
    "                })\n",
    "\n",
    "df_temp = pd.DataFrame(data)\n",
    "df_feat.drop(df_temp.columns[1:], axis=1, errors='ignore', inplace=True)\n",
    "df_feat = df_feat.merge(df_temp, on='pid', how='outer')\n"
   ]
  },
  {
   "cell_type": "markdown",
   "id": "d6456efa-c004-4966-838d-fa5cfb97aab0",
   "metadata": {},
   "source": [
    "### 10 Meter Walk"
   ]
  },
  {
   "cell_type": "code",
   "execution_count": null,
   "id": "fbcfa1c8-7667-4b9e-8807-bc02b87b25ef",
   "metadata": {},
   "outputs": [],
   "source": [
    "df_temp = df_trial[df_trial.trial_clean == '10mwt']\n",
    "data = []\n",
    "for i, row in tqdm(df_temp.iterrows(), total=df_temp.shape[0]):\n",
    "    pid, sid, trial = row[['pid', 'sid', 'trial']]\n",
    "    \n",
    "    fps, markers, xyz = read_trc(get_trc_fpath(sid, trial))        \n",
    "    feats = ocfeats.gait_trc_feats(xyz, markers, fps)\n",
    "    time_10m, speed, com_bob, com_sway, last_4m = feats\n",
    "    \n",
    "    df = read_mot(get_mot_fpath(sid, trial))\n",
    "    feats = ocfeats.gait_mot_feats(df, last_4m)\n",
    "    mean_ptp_hip_add, mean_max_ka = feats\n",
    "\n",
    "    data.append({'pid': pid,\n",
    "                 'walk_speed': speed,\n",
    "                 'walk_com_sway': com_sway,\n",
    "                 'walk_mean_ptp_hip_add': mean_ptp_hip_add,\n",
    "                 'walk_mean_max_ka': mean_max_ka,\n",
    "                })\n",
    "\n",
    "df_temp = pd.DataFrame(data)\n",
    "df_feat.drop(df_temp.columns[1:], axis=1, errors='ignore', inplace=True)\n",
    "df_feat = df_feat.merge(df_temp, on='pid', how='outer')\n"
   ]
  },
  {
   "cell_type": "markdown",
   "id": "86863d06-0d68-4bea-885a-245b46bafa34",
   "metadata": {},
   "source": [
    "### 10 Meter Walk/Run"
   ]
  },
  {
   "cell_type": "code",
   "execution_count": null,
   "id": "b90fc4d8-5698-4791-9f43-4f1ab478e9c9",
   "metadata": {},
   "outputs": [],
   "source": [
    "df_temp = df_trial[df_trial.trial_clean == '10mwrt']\n",
    "data = []\n",
    "for i, row in tqdm(df_temp.iterrows(), total=df_temp.shape[0]):\n",
    "    pid, sid, trial = row[['pid', 'sid', 'trial']]\n",
    "    \n",
    "    fps, markers, xyz = read_trc(get_trc_fpath(sid, trial))        \n",
    "    feats = ocfeats.gait_trc_feats(xyz, markers, fps)\n",
    "    time_10m, speed, com_bob, com_sway, last_4m = feats\n",
    "    \n",
    "    df = read_mot(get_mot_fpath(sid, trial))\n",
    "    feats = ocfeats.gait_mot_feats(df, last_4m)\n",
    "    mean_ptp_hip_add, mean_max_ka = feats\n",
    "\n",
    "    data.append({'pid': pid,\n",
    "                 'run_speed': speed,\n",
    "                 'run_com_sway': com_sway,\n",
    "                 'run_mean_ptp_hip_add': mean_ptp_hip_add,\n",
    "                 'run_mean_max_ka': mean_max_ka,\n",
    "                })\n",
    "\n",
    "df_temp = pd.DataFrame(data)\n",
    "df_feat.drop(df_temp.columns[1:], axis=1, errors='ignore', inplace=True)\n",
    "df_feat = df_feat.merge(df_temp, on='pid', how='outer')\n"
   ]
  },
  {
   "cell_type": "markdown",
   "id": "bf5dbee0-3e29-47b9-9a16-1262dcabcb1f",
   "metadata": {},
   "source": [
    "### Jump"
   ]
  },
  {
   "cell_type": "code",
   "execution_count": null,
   "id": "e4563eee-cfd1-4397-b55f-81d711f74d65",
   "metadata": {},
   "outputs": [],
   "source": [
    "df_temp = df_trial[df_trial.trial_clean == 'jump']\n",
    "data = []\n",
    "for i, row in tqdm(df_temp.iterrows(), total=df_temp.shape[0]):\n",
    "    pid, sid, trial = row[['pid', 'sid', 'trial']]\n",
    "    \n",
    "    fps, markers, xyz = read_trc(get_trc_fpath(sid, trial))  \n",
    "    com_xyz = ocfeats.center_of_mass(get_model_fpath(sid),\n",
    "                                     get_mot_fpath(sid, trial))\n",
    "    max_com_vel = ocfeats.jump_trc_feats(com_xyz, fps)\n",
    "\n",
    "    data.append({'pid': pid,\n",
    "                 'jump_max_com_vel': max_com_vel,\n",
    "                })\n",
    "\n",
    "df_temp = pd.DataFrame(data)\n",
    "df_feat.drop(df_temp.columns[1:], axis=1, errors='ignore', inplace=True)\n",
    "df_feat = df_feat.merge(df_temp, on='pid', how='outer')\n"
   ]
  },
  {
   "cell_type": "markdown",
   "id": "c9a8db33-3a75-4784-ab8a-eb3330a91dd4",
   "metadata": {},
   "source": [
    "### Toe Stand"
   ]
  },
  {
   "cell_type": "code",
   "execution_count": null,
   "id": "81fc590e-88db-4471-87e1-5e18e8558af3",
   "metadata": {},
   "outputs": [],
   "source": [
    "df_temp = df_trial[df_trial.trial_clean == 'toe_stand']\n",
    "data = []\n",
    "for i, row in tqdm(df_temp.iterrows(), total=df_temp.shape[0]):\n",
    "    pid, sid, trial = row[['pid', 'sid', 'trial']]\n",
    "    \n",
    "    df = read_mot(get_mot_fpath(sid, trial))        \n",
    "    mean_int_aa = ocfeats.toe_stand_mot_feats(df)\n",
    "    \n",
    "    fps, markers, xyz = read_trc(get_trc_fpath(sid, trial))        \n",
    "    com_xyz = ocfeats.center_of_mass(get_model_fpath(sid),\n",
    "                                     get_mot_fpath(sid, trial))\n",
    "    feats = ocfeats.toe_stand_trc_feats(xyz, markers, fps, com_xyz)\n",
    "    int_com_elev, int_com_fwd, int_mean_heel_elev = feats\n",
    "\n",
    "    data.append({'pid': pid,\n",
    "                 'toe_stand_mean_int_aa': mean_int_aa,\n",
    "                 'toe_stand_int_com_elev': int_com_elev,\n",
    "                 'toe_stand_int_com_fwd': int_com_fwd,\n",
    "                 'toe_stand_int_mean_heel_elev': int_mean_heel_elev,\n",
    "                })\n",
    "\n",
    "df_temp = pd.DataFrame(data)\n",
    "df_feat.drop(df_temp.columns[1:], axis=1, errors='ignore', inplace=True)\n",
    "df_feat = df_feat.merge(df_temp, on='pid', how='outer')\n"
   ]
  },
  {
   "cell_type": "code",
   "execution_count": null,
   "id": "a601e01b-5495-4b3b-8deb-1e462787642f",
   "metadata": {},
   "outputs": [],
   "source": [
    "df_feat.to_pickle('./feats.pkl')\n"
   ]
  },
  {
   "cell_type": "code",
   "execution_count": null,
   "id": "01995c96-a673-444f-a45a-14c16843c3f1",
   "metadata": {},
   "outputs": [],
   "source": [
    "\n"
   ]
  }
 ],
 "metadata": {
  "kernelspec": {
   "display_name": "Python 3 (ipykernel)",
   "language": "python",
   "name": "python3"
  },
  "language_info": {
   "codemirror_mode": {
    "name": "ipython",
    "version": 3
   },
   "file_extension": ".py",
   "mimetype": "text/x-python",
   "name": "python",
   "nbconvert_exporter": "python",
   "pygments_lexer": "ipython3",
   "version": "3.9.16"
  }
 },
 "nbformat": 4,
 "nbformat_minor": 5
}
